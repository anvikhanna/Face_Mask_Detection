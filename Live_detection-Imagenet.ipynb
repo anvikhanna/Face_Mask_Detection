{
 "cells": [
  {
   "cell_type": "markdown",
   "metadata": {},
   "source": [
    "**Importing necessary libraries**"
   ]
  },
  {
   "cell_type": "code",
   "execution_count": 1,
   "metadata": {},
   "outputs": [],
   "source": [
    "import pandas as pd\n",
    "import numpy as np\n",
    "import os\n",
    "import cv2\n",
    "\n",
    "from keras.models import load_model\n",
    "from keras.preprocessing.image import ImageDataGenerator,load_img,img_to_array\n",
    "from tensorflow.keras.applications.mobilenet_v2 import preprocess_input\n",
    "\n",
    "import sys\n",
    "import warnings\n",
    "\n",
    "if not sys.warnoptions:\n",
    "    warnings.simplefilter(\"ignore\")"
   ]
  },
  {
   "cell_type": "markdown",
   "metadata": {},
   "source": [
    "**Loading model and cascade classifier to detect face**"
   ]
  },
  {
   "cell_type": "code",
   "execution_count": 2,
   "metadata": {},
   "outputs": [],
   "source": [
    "model=load_model('best-imagenet')"
   ]
  },
  {
   "cell_type": "code",
   "execution_count": 3,
   "metadata": {},
   "outputs": [],
   "source": [
    "face_clsfr=cv2.CascadeClassifier(cv2.data.haarcascades +'haarcascade_frontalface_default.xml')"
   ]
  },
  {
   "cell_type": "markdown",
   "metadata": {},
   "source": [
    "**Reading video , detecting face and preprocessing it accordingly to predict till escape button is given as input**"
   ]
  },
  {
   "cell_type": "code",
   "execution_count": 4,
   "metadata": {},
   "outputs": [],
   "source": [
    "source=cv2.VideoCapture(0)\n",
    "\n",
    "labels_dict={0:'NO MASK',1:'MASK'}\n",
    "color_dict={0:(0,0,255),1:(0,255,0)}  #0->red (no mask) , 1->green (mask)\n",
    "\n",
    "while(True):\n",
    "\n",
    "    ret,img=source.read()\n",
    "    image=cv2.cvtColor(img,cv2.COLOR_BGR2RGB)\n",
    "    faces=face_clsfr.detectMultiScale(image,1.3,5)  \n",
    "\n",
    "    for x,y,w,h in faces:\n",
    "    \n",
    "        face_img=image[y:y+w,x:x+w]\n",
    "        resized=cv2.resize(face_img,(224,224))    \n",
    "        face = img_to_array(resized)             \n",
    "        face = preprocess_input(face)\n",
    "        faces = np.array(faces, dtype=\"float32\")\n",
    "        face = np.expand_dims(face, axis=0)\n",
    "        result=model.predict(face)        \n",
    "\n",
    "        y_hat=np.argmax(result,axis=1)[0]       \n",
    "        \n",
    "        label = \"{}: {:.2f}%\".format(labels_dict[y_hat], np.max(result,axis=1).item()*100)        \n",
    "        \n",
    "        cv2.rectangle(img,(x,y),(x+w,y+h),color_dict[y_hat],2)\n",
    "        cv2.rectangle(img,(x,y),(x+w,y),color_dict[y_hat],-1)\n",
    "        cv2.putText(img, label, (x, y-10),cv2.FONT_HERSHEY_SIMPLEX,0.8,(255,255,255),2)\n",
    "  \n",
    "        \n",
    "    cv2.imshow('Live face mask detector',img)\n",
    "    key=cv2.waitKey(1)\n",
    "    \n",
    "    if(key==27):\n",
    "        break\n",
    "        \n",
    "cv2.destroyAllWindows()\n",
    "source.release()"
   ]
  }
 ],
 "metadata": {
  "kernelspec": {
   "display_name": "Python 3",
   "language": "python",
   "name": "python3"
  },
  "language_info": {
   "codemirror_mode": {
    "name": "ipython",
    "version": 3
   },
   "file_extension": ".py",
   "mimetype": "text/x-python",
   "name": "python",
   "nbconvert_exporter": "python",
   "pygments_lexer": "ipython3",
   "version": "3.6.9"
  }
 },
 "nbformat": 4,
 "nbformat_minor": 4
}
